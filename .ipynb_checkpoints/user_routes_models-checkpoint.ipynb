{
 "cells": [
  {
   "cell_type": "code",
   "execution_count": 1,
   "metadata": {},
   "outputs": [],
   "source": [
    "%load_ext sql"
   ]
  },
  {
   "cell_type": "code",
   "execution_count": 2,
   "metadata": {},
   "outputs": [],
   "source": [
    "%sql postgresql://localhost/climbing_dev"
   ]
  },
  {
   "cell_type": "markdown",
   "metadata": {},
   "source": [
    "## User Profiles: their routes"
   ]
  },
  {
   "cell_type": "markdown",
   "metadata": {},
   "source": [
    "- user can save a route to their route_list"
   ]
  },
  {
   "cell_type": "markdown",
   "metadata": {},
   "source": [
    "- create user_routes table\n",
    "- id, route_id, user_id, status"
   ]
  },
  {
   "cell_type": "code",
   "execution_count": 4,
   "metadata": {},
   "outputs": [
    {
     "name": "stdout",
     "output_type": "stream",
     "text": [
      " * postgresql://localhost/climbing_dev\n",
      "Done.\n"
     ]
    },
    {
     "data": {
      "text/plain": [
       "[]"
      ]
     },
     "execution_count": 4,
     "metadata": {},
     "output_type": "execute_result"
    }
   ],
   "source": [
    "%%sql\n",
    "CREATE TABLE IF NOT EXISTS user_routes\n",
    "(id SERIAL PRIMARY KEY, user_id INTEGER REFERENCES users(id), route_id INTEGER REFERENCES climbing_routes(id))\n"
   ]
  },
  {
   "cell_type": "code",
   "execution_count": 11,
   "metadata": {},
   "outputs": [
    {
     "name": "stdout",
     "output_type": "stream",
     "text": [
      " * postgresql://localhost/climbing_dev\n",
      "4 rows affected.\n"
     ]
    },
    {
     "data": {
      "text/html": [
       "<table>\n",
       "    <tr>\n",
       "        <th>id</th>\n",
       "        <th>name</th>\n",
       "        <th>type</th>\n",
       "        <th>rating</th>\n",
       "        <th>image</th>\n",
       "        <th>longitude</th>\n",
       "        <th>latitude</th>\n",
       "        <th>user_id</th>\n",
       "    </tr>\n",
       "    <tr>\n",
       "        <td>1</td>\n",
       "        <td>White Rastafarian</td>\n",
       "        <td>Boulder</td>\n",
       "        <td>V2 R</td>\n",
       "        <td>https://cdn2.apstatic.com/photos/climb/118765367_sqsmall_1586991738.jpg</td>\n",
       "        <td>-116.000000</td>\n",
       "        <td>34.000000</td>\n",
       "        <td>None</td>\n",
       "    </tr>\n",
       "    <tr>\n",
       "        <td>3</td>\n",
       "        <td>Illusion Dweller</td>\n",
       "        <td>Trad</td>\n",
       "        <td>5.10b</td>\n",
       "        <td>https://cdn2.apstatic.com/photos/climb/106746660_sqsmall_1494137475.jpg</td>\n",
       "        <td>-116.000000</td>\n",
       "        <td>34.000000</td>\n",
       "        <td>None</td>\n",
       "    </tr>\n",
       "    <tr>\n",
       "        <td>6</td>\n",
       "        <td>Too Big To Flail</td>\n",
       "        <td>Boulder</td>\n",
       "        <td>v10</td>\n",
       "        <td>https://www.mountainproject.com/photo/114260820/the-beauty</td>\n",
       "        <td>-119.000000</td>\n",
       "        <td>37.000000</td>\n",
       "        <td>None</td>\n",
       "    </tr>\n",
       "    <tr>\n",
       "        <td>7</td>\n",
       "        <td>Led Zepplin</td>\n",
       "        <td>Boulder</td>\n",
       "        <td>V0 R</td>\n",
       "        <td>None</td>\n",
       "        <td>None</td>\n",
       "        <td>None</td>\n",
       "        <td>None</td>\n",
       "    </tr>\n",
       "</table>"
      ],
      "text/plain": [
       "[(1, 'White Rastafarian', 'Boulder', 'V2 R', 'https://cdn2.apstatic.com/photos/climb/118765367_sqsmall_1586991738.jpg', Decimal('-116.000000'), Decimal('34.000000'), None),\n",
       " (3, 'Illusion Dweller', 'Trad', '5.10b', 'https://cdn2.apstatic.com/photos/climb/106746660_sqsmall_1494137475.jpg', Decimal('-116.000000'), Decimal('34.000000'), None),\n",
       " (6, 'Too Big To Flail', 'Boulder', 'v10', 'https://www.mountainproject.com/photo/114260820/the-beauty', Decimal('-119.000000'), Decimal('37.000000'), None),\n",
       " (7, 'Led Zepplin', 'Boulder', 'V0 R', None, None, None, None)]"
      ]
     },
     "execution_count": 11,
     "metadata": {},
     "output_type": "execute_result"
    }
   ],
   "source": [
    "%%sql\n",
    "select * from climbing_routes\n",
    "LIMIT 5"
   ]
  },
  {
   "cell_type": "code",
   "execution_count": 9,
   "metadata": {},
   "outputs": [
    {
     "name": "stdout",
     "output_type": "stream",
     "text": [
      " * postgresql://localhost/climbing_dev\n",
      "1 rows affected.\n"
     ]
    },
    {
     "data": {
      "text/html": [
       "<table>\n",
       "    <tr>\n",
       "        <th>id</th>\n",
       "        <th>username</th>\n",
       "        <th>email</th>\n",
       "        <th>password_digest</th>\n",
       "    </tr>\n",
       "    <tr>\n",
       "        <td>1</td>\n",
       "        <td>test</td>\n",
       "        <td>test@testmail.com</td>\n",
       "        <td>$2a$10$KdzoLWH6GCr02CGKlAW47eXLS6Kxiu3O3ag7R3SPWFG2vpV.0cs3S</td>\n",
       "    </tr>\n",
       "</table>"
      ],
      "text/plain": [
       "[(1, 'test', 'test@testmail.com', '$2a$10$KdzoLWH6GCr02CGKlAW47eXLS6Kxiu3O3ag7R3SPWFG2vpV.0cs3S')]"
      ]
     },
     "execution_count": 9,
     "metadata": {},
     "output_type": "execute_result"
    }
   ],
   "source": [
    "%%sql\n",
    "select * from users\n",
    "LIMIT 1"
   ]
  },
  {
   "cell_type": "code",
   "execution_count": 12,
   "metadata": {},
   "outputs": [
    {
     "name": "stdout",
     "output_type": "stream",
     "text": [
      " * postgresql://localhost/climbing_dev\n",
      "2 rows affected.\n"
     ]
    },
    {
     "data": {
      "text/plain": [
       "[]"
      ]
     },
     "execution_count": 12,
     "metadata": {},
     "output_type": "execute_result"
    }
   ],
   "source": [
    "%%sql\n",
    "INSERT INTO user_routes\n",
    "(user_id, route_id)\n",
    "VALUES\n",
    "(1,1),\n",
    "(1,3)"
   ]
  },
  {
   "cell_type": "code",
   "execution_count": 4,
   "metadata": {},
   "outputs": [
    {
     "name": "stdout",
     "output_type": "stream",
     "text": [
      " * postgresql://localhost/climbing_dev\n",
      "2 rows affected.\n"
     ]
    },
    {
     "data": {
      "text/html": [
       "<table>\n",
       "    <tr>\n",
       "        <th>user_id</th>\n",
       "        <th>route_id</th>\n",
       "        <th>name</th>\n",
       "        <th>type</th>\n",
       "        <th>rating</th>\n",
       "        <th>image</th>\n",
       "        <th>longitude</th>\n",
       "        <th>latitude</th>\n",
       "    </tr>\n",
       "    <tr>\n",
       "        <td>1</td>\n",
       "        <td>1</td>\n",
       "        <td>White Rastafarian</td>\n",
       "        <td>Boulder</td>\n",
       "        <td>V2 R</td>\n",
       "        <td>https://cdn2.apstatic.com/photos/climb/118765367_sqsmall_1586991738.jpg</td>\n",
       "        <td>-116.000000</td>\n",
       "        <td>34.000000</td>\n",
       "    </tr>\n",
       "    <tr>\n",
       "        <td>1</td>\n",
       "        <td>3</td>\n",
       "        <td>Illusion Dweller</td>\n",
       "        <td>Trad</td>\n",
       "        <td>5.10b</td>\n",
       "        <td>https://cdn2.apstatic.com/photos/climb/106746660_sqsmall_1494137475.jpg</td>\n",
       "        <td>-116.000000</td>\n",
       "        <td>34.000000</td>\n",
       "    </tr>\n",
       "</table>"
      ],
      "text/plain": [
       "[(1, 1, 'White Rastafarian', 'Boulder', 'V2 R', 'https://cdn2.apstatic.com/photos/climb/118765367_sqsmall_1586991738.jpg', Decimal('-116.000000'), Decimal('34.000000')),\n",
       " (1, 3, 'Illusion Dweller', 'Trad', '5.10b', 'https://cdn2.apstatic.com/photos/climb/106746660_sqsmall_1494137475.jpg', Decimal('-116.000000'), Decimal('34.000000'))]"
      ]
     },
     "execution_count": 4,
     "metadata": {},
     "output_type": "execute_result"
    }
   ],
   "source": [
    "%%sql\n",
    "SELECT\n",
    "    user_routes.user_id,\n",
    "    user_routes.route_id,\n",
    "    climbing_routes.name,\n",
    "    climbing_routes.type,\n",
    "    climbing_routes.rating,\n",
    "    climbing_routes.image,\n",
    "    climbing_routes.longitude,\n",
    "    climbing_routes.latitude\n",
    "FROM user_routes\n",
    "LEFT JOIN climbing_routes\n",
    "ON climbing_routes.id = user_routes.route_id\n",
    "WHERE user_routes.user_id = 1"
   ]
  },
  {
   "cell_type": "code",
   "execution_count": 5,
   "metadata": {},
   "outputs": [
    {
     "name": "stdout",
     "output_type": "stream",
     "text": [
      " * postgresql://localhost/climbing_dev\n",
      "6 rows affected.\n"
     ]
    },
    {
     "data": {
      "text/html": [
       "<table>\n",
       "    <tr>\n",
       "        <th>id</th>\n",
       "        <th>user_id</th>\n",
       "        <th>route_id</th>\n",
       "    </tr>\n",
       "    <tr>\n",
       "        <td>3</td>\n",
       "        <td>1</td>\n",
       "        <td>1</td>\n",
       "    </tr>\n",
       "    <tr>\n",
       "        <td>4</td>\n",
       "        <td>1</td>\n",
       "        <td>3</td>\n",
       "    </tr>\n",
       "    <tr>\n",
       "        <td>5</td>\n",
       "        <td>1</td>\n",
       "        <td>None</td>\n",
       "    </tr>\n",
       "    <tr>\n",
       "        <td>6</td>\n",
       "        <td>1</td>\n",
       "        <td>7</td>\n",
       "    </tr>\n",
       "    <tr>\n",
       "        <td>7</td>\n",
       "        <td>1</td>\n",
       "        <td>6</td>\n",
       "    </tr>\n",
       "    <tr>\n",
       "        <td>8</td>\n",
       "        <td>1</td>\n",
       "        <td>1</td>\n",
       "    </tr>\n",
       "</table>"
      ],
      "text/plain": [
       "[(3, 1, 1), (4, 1, 3), (5, 1, None), (6, 1, 7), (7, 1, 6), (8, 1, 1)]"
      ]
     },
     "execution_count": 5,
     "metadata": {},
     "output_type": "execute_result"
    }
   ],
   "source": [
    "%%sql\n",
    "select * from user_routes\n",
    "where user_id = 1"
   ]
  },
  {
   "cell_type": "code",
   "execution_count": 6,
   "metadata": {},
   "outputs": [
    {
     "name": "stdout",
     "output_type": "stream",
     "text": [
      " * postgresql://localhost/climbing_dev\n",
      "1 rows affected.\n"
     ]
    },
    {
     "data": {
      "text/plain": [
       "[]"
      ]
     },
     "execution_count": 6,
     "metadata": {},
     "output_type": "execute_result"
    }
   ],
   "source": [
    "%%sql\n",
    "DELETE FROM user_routes\n",
    "WHERE id = 5;"
   ]
  },
  {
   "cell_type": "code",
   "execution_count": 7,
   "metadata": {},
   "outputs": [
    {
     "name": "stdout",
     "output_type": "stream",
     "text": [
      " * postgresql://localhost/climbing_dev\n",
      "Done.\n"
     ]
    },
    {
     "data": {
      "text/plain": [
       "[]"
      ]
     },
     "execution_count": 7,
     "metadata": {},
     "output_type": "execute_result"
    }
   ],
   "source": [
    "%%sql \n",
    "ALTER TABLE user_routes\n",
    "ADD COLUMN status VARCHAR(255),\n",
    "ADD COLUMN notes VARCHAR(500)"
   ]
  },
  {
   "cell_type": "code",
   "execution_count": 9,
   "metadata": {},
   "outputs": [
    {
     "name": "stdout",
     "output_type": "stream",
     "text": [
      " * postgresql://localhost/climbing_dev\n",
      "5 rows affected.\n"
     ]
    },
    {
     "data": {
      "text/html": [
       "<table>\n",
       "    <tr>\n",
       "        <th>id</th>\n",
       "        <th>user_id</th>\n",
       "        <th>route_id</th>\n",
       "        <th>status</th>\n",
       "        <th>notes</th>\n",
       "    </tr>\n",
       "    <tr>\n",
       "        <td>3</td>\n",
       "        <td>1</td>\n",
       "        <td>1</td>\n",
       "        <td>None</td>\n",
       "        <td>None</td>\n",
       "    </tr>\n",
       "    <tr>\n",
       "        <td>4</td>\n",
       "        <td>1</td>\n",
       "        <td>3</td>\n",
       "        <td>None</td>\n",
       "        <td>None</td>\n",
       "    </tr>\n",
       "    <tr>\n",
       "        <td>6</td>\n",
       "        <td>1</td>\n",
       "        <td>7</td>\n",
       "        <td>None</td>\n",
       "        <td>None</td>\n",
       "    </tr>\n",
       "    <tr>\n",
       "        <td>7</td>\n",
       "        <td>1</td>\n",
       "        <td>6</td>\n",
       "        <td>None</td>\n",
       "        <td>None</td>\n",
       "    </tr>\n",
       "    <tr>\n",
       "        <td>8</td>\n",
       "        <td>1</td>\n",
       "        <td>1</td>\n",
       "        <td>None</td>\n",
       "        <td>None</td>\n",
       "    </tr>\n",
       "</table>"
      ],
      "text/plain": [
       "[(3, 1, 1, None, None),\n",
       " (4, 1, 3, None, None),\n",
       " (6, 1, 7, None, None),\n",
       " (7, 1, 6, None, None),\n",
       " (8, 1, 1, None, None)]"
      ]
     },
     "execution_count": 9,
     "metadata": {},
     "output_type": "execute_result"
    }
   ],
   "source": [
    "%%sql\n",
    "select * from user_routes"
   ]
  },
  {
   "cell_type": "code",
   "execution_count": 11,
   "metadata": {},
   "outputs": [
    {
     "name": "stdout",
     "output_type": "stream",
     "text": [
      " * postgresql://localhost/climbing_dev\n",
      "1 rows affected.\n"
     ]
    },
    {
     "data": {
      "text/plain": [
       "[]"
      ]
     },
     "execution_count": 11,
     "metadata": {},
     "output_type": "execute_result"
    }
   ],
   "source": [
    "%%sql\n",
    "UPDATE user_routes\n",
    "SET \n",
    "    status = 'projecting',\n",
    "    notes = 'need 3 ropes, 2 crash pads'\n",
    "WHERE id = 3;"
   ]
  },
  {
   "cell_type": "code",
   "execution_count": 3,
   "metadata": {},
   "outputs": [
    {
     "name": "stdout",
     "output_type": "stream",
     "text": [
      " * postgresql://localhost/climbing_dev\n",
      "4 rows affected.\n"
     ]
    },
    {
     "data": {
      "text/html": [
       "<table>\n",
       "    <tr>\n",
       "        <th>id</th>\n",
       "        <th>user_id</th>\n",
       "        <th>route_id</th>\n",
       "        <th>status</th>\n",
       "        <th>notes</th>\n",
       "    </tr>\n",
       "    <tr>\n",
       "        <td>4</td>\n",
       "        <td>1</td>\n",
       "        <td>3</td>\n",
       "        <td>None</td>\n",
       "        <td>None</td>\n",
       "    </tr>\n",
       "    <tr>\n",
       "        <td>7</td>\n",
       "        <td>1</td>\n",
       "        <td>6</td>\n",
       "        <td>None</td>\n",
       "        <td>None</td>\n",
       "    </tr>\n",
       "    <tr>\n",
       "        <td>3</td>\n",
       "        <td>1</td>\n",
       "        <td>1</td>\n",
       "        <td>projecting</td>\n",
       "        <td>need 3 ropes, 2 crash pads</td>\n",
       "    </tr>\n",
       "    <tr>\n",
       "        <td>9</td>\n",
       "        <td>1</td>\n",
       "        <td>8</td>\n",
       "        <td>not sent</td>\n",
       "        <td>None</td>\n",
       "    </tr>\n",
       "</table>"
      ],
      "text/plain": [
       "[(4, 1, 3, None, None),\n",
       " (7, 1, 6, None, None),\n",
       " (3, 1, 1, 'projecting', 'need 3 ropes, 2 crash pads'),\n",
       " (9, 1, 8, 'not sent', None)]"
      ]
     },
     "execution_count": 3,
     "metadata": {},
     "output_type": "execute_result"
    }
   ],
   "source": [
    "%%sql\n",
    "select * from user_routes"
   ]
  },
  {
   "cell_type": "code",
   "execution_count": 15,
   "metadata": {},
   "outputs": [
    {
     "name": "stdout",
     "output_type": "stream",
     "text": [
      " * postgresql://localhost/climbing_dev\n",
      "5 rows affected.\n"
     ]
    },
    {
     "data": {
      "text/html": [
       "<table>\n",
       "    <tr>\n",
       "        <th>id</th>\n",
       "        <th>name</th>\n",
       "        <th>type</th>\n",
       "        <th>rating</th>\n",
       "        <th>image</th>\n",
       "        <th>longitude</th>\n",
       "        <th>latitude</th>\n",
       "        <th>user_id</th>\n",
       "    </tr>\n",
       "    <tr>\n",
       "        <td>8</td>\n",
       "        <td>The Nose</td>\n",
       "        <td>Trad</td>\n",
       "        <td>5.9 C2</td>\n",
       "        <td>https://cdn2.apstatic.com/photos/climb/111184613_medium_1494342297.jpg</td>\n",
       "        <td>None</td>\n",
       "        <td>None</td>\n",
       "        <td>None</td>\n",
       "    </tr>\n",
       "    <tr>\n",
       "        <td>1</td>\n",
       "        <td>White Rastafarian</td>\n",
       "        <td>Boulder</td>\n",
       "        <td>V2 R</td>\n",
       "        <td>https://cdn2.apstatic.com/photos/climb/118765367_medium_1586991738.jpg</td>\n",
       "        <td>-116.000000</td>\n",
       "        <td>34.000000</td>\n",
       "        <td>None</td>\n",
       "    </tr>\n",
       "    <tr>\n",
       "        <td>3</td>\n",
       "        <td>Illusion Dweller</td>\n",
       "        <td>Trad</td>\n",
       "        <td>5.10b</td>\n",
       "        <td>https://cdn2.apstatic.com/photos/climb/106746660_medium_1494137475.jpg</td>\n",
       "        <td>-116.000000</td>\n",
       "        <td>34.000000</td>\n",
       "        <td>None</td>\n",
       "    </tr>\n",
       "    <tr>\n",
       "        <td>7</td>\n",
       "        <td>Led Zepplin</td>\n",
       "        <td>Boulder</td>\n",
       "        <td>V0 R</td>\n",
       "        <td>https://cdn2.apstatic.com/photos/climb/114260820_medium_1523759870.jpg</td>\n",
       "        <td>None</td>\n",
       "        <td>None</td>\n",
       "        <td>None</td>\n",
       "    </tr>\n",
       "    <tr>\n",
       "        <td>6</td>\n",
       "        <td>Too Big To Flail</td>\n",
       "        <td>Boulder</td>\n",
       "        <td>v10</td>\n",
       "        <td>https://cdn2.apstatic.com/photos/climb/114260820_medium_1523759870.jpg</td>\n",
       "        <td>-119.000000</td>\n",
       "        <td>37.000000</td>\n",
       "        <td>None</td>\n",
       "    </tr>\n",
       "</table>"
      ],
      "text/plain": [
       "[(8, 'The Nose', 'Trad', '5.9 C2', 'https://cdn2.apstatic.com/photos/climb/111184613_medium_1494342297.jpg', None, None, None),\n",
       " (1, 'White Rastafarian', 'Boulder', 'V2 R', 'https://cdn2.apstatic.com/photos/climb/118765367_medium_1586991738.jpg', Decimal('-116.000000'), Decimal('34.000000'), None),\n",
       " (3, 'Illusion Dweller', 'Trad', '5.10b', 'https://cdn2.apstatic.com/photos/climb/106746660_medium_1494137475.jpg', Decimal('-116.000000'), Decimal('34.000000'), None),\n",
       " (7, 'Led Zepplin', 'Boulder', 'V0 R', 'https://cdn2.apstatic.com/photos/climb/114260820_medium_1523759870.jpg', None, None, None),\n",
       " (6, 'Too Big To Flail', 'Boulder', 'v10', 'https://cdn2.apstatic.com/photos/climb/114260820_medium_1523759870.jpg', Decimal('-119.000000'), Decimal('37.000000'), None)]"
      ]
     },
     "execution_count": 15,
     "metadata": {},
     "output_type": "execute_result"
    }
   ],
   "source": [
    "%%sql\n",
    "select * from climbing_routes"
   ]
  },
  {
   "cell_type": "code",
   "execution_count": 14,
   "metadata": {},
   "outputs": [
    {
     "name": "stdout",
     "output_type": "stream",
     "text": [
      " * postgresql://localhost/climbing_dev\n",
      "1 rows affected.\n"
     ]
    },
    {
     "data": {
      "text/plain": [
       "[]"
      ]
     },
     "execution_count": 14,
     "metadata": {},
     "output_type": "execute_result"
    }
   ],
   "source": [
    "%%sql\n",
    "UPDATE climbing_routes\n",
    "SET \n",
    "    image = 'https://cdn2.apstatic.com/photos/climb/114260820_medium_1523759870.jpg'\n",
    "WHERE id = 6;"
   ]
  },
  {
   "cell_type": "code",
   "execution_count": 7,
   "metadata": {},
   "outputs": [
    {
     "name": "stdout",
     "output_type": "stream",
     "text": [
      " * postgresql://localhost/climbing_dev\n",
      "4 rows affected.\n"
     ]
    },
    {
     "data": {
      "text/html": [
       "<table>\n",
       "    <tr>\n",
       "        <th>id</th>\n",
       "        <th>user_id</th>\n",
       "        <th>route_id</th>\n",
       "        <th>status</th>\n",
       "        <th>notes</th>\n",
       "    </tr>\n",
       "    <tr>\n",
       "        <td>3</td>\n",
       "        <td>1</td>\n",
       "        <td>1</td>\n",
       "        <td>projecting</td>\n",
       "        <td>need 3 ropes, 2 crash pads</td>\n",
       "    </tr>\n",
       "    <tr>\n",
       "        <td>9</td>\n",
       "        <td>1</td>\n",
       "        <td>8</td>\n",
       "        <td>not sent</td>\n",
       "        <td>None</td>\n",
       "    </tr>\n",
       "    <tr>\n",
       "        <td>4</td>\n",
       "        <td>1</td>\n",
       "        <td>3</td>\n",
       "        <td>not sent</td>\n",
       "        <td>None</td>\n",
       "    </tr>\n",
       "    <tr>\n",
       "        <td>7</td>\n",
       "        <td>1</td>\n",
       "        <td>6</td>\n",
       "        <td>not sent</td>\n",
       "        <td>None</td>\n",
       "    </tr>\n",
       "</table>"
      ],
      "text/plain": [
       "[(3, 1, 1, 'projecting', 'need 3 ropes, 2 crash pads'),\n",
       " (9, 1, 8, 'not sent', None),\n",
       " (4, 1, 3, 'not sent', None),\n",
       " (7, 1, 6, 'not sent', None)]"
      ]
     },
     "execution_count": 7,
     "metadata": {},
     "output_type": "execute_result"
    }
   ],
   "source": [
    "%%sql\n",
    "select * from user_routes;"
   ]
  },
  {
   "cell_type": "code",
   "execution_count": 4,
   "metadata": {},
   "outputs": [
    {
     "name": "stdout",
     "output_type": "stream",
     "text": [
      " * postgresql://localhost/climbing_dev\n",
      "Done.\n"
     ]
    },
    {
     "data": {
      "text/plain": [
       "[]"
      ]
     },
     "execution_count": 4,
     "metadata": {},
     "output_type": "execute_result"
    }
   ],
   "source": [
    "%%sql\n",
    "ALTER TABLE user_routes\n",
    "ALTER COLUMN status SET DEFAULT 'not sent';"
   ]
  },
  {
   "cell_type": "code",
   "execution_count": 6,
   "metadata": {},
   "outputs": [
    {
     "name": "stdout",
     "output_type": "stream",
     "text": [
      " * postgresql://localhost/climbing_dev\n",
      "2 rows affected.\n"
     ]
    },
    {
     "data": {
      "text/plain": [
       "[]"
      ]
     },
     "execution_count": 6,
     "metadata": {},
     "output_type": "execute_result"
    }
   ],
   "source": [
    "%%sql\n",
    "UPDATE user_routes\n",
    "SET \n",
    "    status = 'not sent'\n",
    "WHERE id in(4,7);"
   ]
  },
  {
   "cell_type": "code",
   "execution_count": null,
   "metadata": {},
   "outputs": [],
   "source": []
  }
 ],
 "metadata": {
  "kernelspec": {
   "display_name": "Python 3",
   "language": "python",
   "name": "python3"
  },
  "language_info": {
   "codemirror_mode": {
    "name": "ipython",
    "version": 3
   },
   "file_extension": ".py",
   "mimetype": "text/x-python",
   "name": "python",
   "nbconvert_exporter": "python",
   "pygments_lexer": "ipython3",
   "version": "3.7.6"
  }
 },
 "nbformat": 4,
 "nbformat_minor": 4
}
